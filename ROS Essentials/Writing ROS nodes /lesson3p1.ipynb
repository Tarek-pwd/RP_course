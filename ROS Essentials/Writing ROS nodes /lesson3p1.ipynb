{
 "cells": [
  {
   "cell_type": "markdown",
   "id": "0fef95b1-b31c-47fe-b996-f97a35f19595",
   "metadata": {},
   "source": [
    "# Writing ROS Nodes in C++\n",
    "\n",
    "**videos goes here**\n",
    "\n",
    "In this lesson, you’ll be learning how to write nodes in C++.\n",
    "\n",
    "---\n",
    "\n",
    "## Node 1: simple_mover\n",
    "\n",
    "The first node that you will write is called `simple_mover`. The `simple_mover` node does nothing more than publish joint angle commands to `simple_arm`.\n",
    "\n",
    "---\n",
    "\n",
    "## Node 2: arm_mover\n",
    "\n",
    "Once you understand the general structure of a ROS node, you will write another node called `arm_mover`. The `arm_mover` node provides a service called `safe_move`, which allows the arm to be moved to any position within its workspace that has been deemed safe. \n",
    "\n",
    "### Key Features:\n",
    "\n",
    "- **Safe Zone**:\n",
    "  - Bounded by minimum and maximum joint angles.\n",
    "  - Configurable via the ROS parameter server.\n",
    "\n",
    "---\n",
    "\n",
    "## Node 3: look_away\n",
    "\n",
    "The last node you’ll write in this lesson is the `look_away` node. \n",
    "\n",
    "### Functionality:\n",
    "\n",
    "- **Subscriptions**:\n",
    "  - Subscribes to arm joint positions.\n",
    "  - Subscribes to a topic where camera data is being published.\n",
    "\n",
    "- **Behavior**:\n",
    "  - Detects when the camera is looking at an image with uniform color (e.g., the sky).\n",
    "  - Checks if the arm is not moving.\n",
    "  - Calls the `safe_move` service via a client to move the arm to a new position.\n"
   ]
  }
 ],
 "metadata": {
  "kernelspec": {
   "display_name": "Python 3 (ipykernel)",
   "language": "python",
   "name": "python3"
  },
  "language_info": {
   "codemirror_mode": {
    "name": "ipython",
    "version": 3
   },
   "file_extension": ".py",
   "mimetype": "text/x-python",
   "name": "python",
   "nbconvert_exporter": "python",
   "pygments_lexer": "ipython3",
   "version": "3.12.7"
  }
 },
 "nbformat": 4,
 "nbformat_minor": 5
}
