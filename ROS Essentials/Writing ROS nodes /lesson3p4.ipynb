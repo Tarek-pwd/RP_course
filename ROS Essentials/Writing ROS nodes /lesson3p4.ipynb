{
 "cells": [
  {
   "cell_type": "markdown",
   "id": "536d4cf9-fed9-4f6c-87f3-fe3e572971ae",
   "metadata": {},
   "source": [
    "# Implementing Your First ROS Node in C++: simple_mover\n",
    "\n",
    "You will now go through the process of implementing your first ROS node in C++. This node is called `simple_mover`. As its name implies, this node only has one responsibility: to command joint movements for `simple_arm`.\n",
    "\n",
    "---\n",
    "\n",
    "## Goal\n",
    "\n",
    "The goal of the `simple_mover` node is to command each joint in the simple arm and make it swing between `-pi/2` to `pi/2` over time. \n",
    "\n",
    "**Here’s a demonstration of this node in action:**\n",
    "\n",
    "**video goes here**\n",
    "\n",
    "---\n",
    "\n",
    "## Topics\n",
    "\n",
    "To achieve this, the node must publish joint angle command messages to the following topics:\n",
    "\n",
    "| Topic Name                                             | Message Type      | Description                                      |\n",
    "|-------------------------------------------------------|-------------------|--------------------------------------------------|\n",
    "| `/simple_arm/joint_1_position_controller/command`     | `std_msgs/Float64` | Commands joint 1 to move counter-clockwise, units in radians |\n",
    "| `/simple_arm/joint_2_position_controller/command`     | `std_msgs/Float64` | Commands joint 2 to move counter-clockwise, units in radians |\n",
    "\n",
    "---\n",
    "\n",
    "## Note:\n",
    "\n",
    "If you no longer have the `catkin_ws` or `simple_arm` package from the previous lesson, you need to re-create a new `catkin_ws` and clone the package inside your `~/catkin_ws/src` directory with:\n",
    "\n",
    "```bash\n",
    "$ mkdir -p ~/catkin_ws/src/\n",
    "$ cd ~/catkin_ws/src/\n",
    "$ git clone -b first_interaction https://github.com/udacity/RoboND-simple_arm/ simple_arm\n",
    "```\n",
    "\n",
    "---\n",
    "\n",
    "## Adding the Source Directory\n",
    "\n",
    "In order to create a new node in C++, you must first create the `src` directory within the `simple_arm` package, as it does not yet exist:\n",
    "\n",
    "```bash\n",
    "$ cd ~/catkin_ws/src/simple_arm/\n",
    "$ mkdir src\n",
    "```\n",
    "\n",
    "---\n",
    "\n",
    "## Creating a New Script\n",
    "\n",
    "Once the source directory has been created, C++ scripts can be added to the package. Now, create the `simple_mover` C++ script inside the source directory of the package:\n",
    "\n",
    "```bash\n",
    "$ cd ~/catkin_ws/src/simple_arm/src/\n",
    "$ touch simple_mover.cpp"
   ]
  }
 ],
 "metadata": {
  "kernelspec": {
   "display_name": "Python 3 (ipykernel)",
   "language": "python",
   "name": "python3"
  },
  "language_info": {
   "codemirror_mode": {
    "name": "ipython",
    "version": 3
   },
   "file_extension": ".py",
   "mimetype": "text/x-python",
   "name": "python",
   "nbconvert_exporter": "python",
   "pygments_lexer": "ipython3",
   "version": "3.12.7"
  }
 },
 "nbformat": 4,
 "nbformat_minor": 5
}
