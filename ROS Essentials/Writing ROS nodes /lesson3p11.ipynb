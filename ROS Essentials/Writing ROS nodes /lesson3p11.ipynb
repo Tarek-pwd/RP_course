{
 "cells": [
  {
   "cell_type": "markdown",
   "id": "aef0ffa5-b43c-4380-ab64-b028444f5d6f",
   "metadata": {},
   "source": [
    "## Writing the arm_mover Node\n",
    "\n",
    "You have practiced generating custom messages, publishing to a topic, building ROS services servers, setting parameters, and creating launch files. You almost have a complete overview of ROS, but you still have to learn ROS clients to request services from client nodes, as well as ROS subscribers.\n",
    "\n",
    "### ROS Clients\n",
    "\n",
    "A service client defined inside a service client node can request services from a service server node. In C++, ROS clients frequently have the following format, although other parameters and arguments are possible:\n",
    "\n",
    "```cpp\n",
    "ros::ServiceClient client = n.serviceClient<package_name::service_file_name>(\"service_name\");\n",
    "```\n",
    "\n",
    "- The `client` object is instantiated from the `ros::ServiceClient` class. This object allows you to request services by calling the `client.call()` function.\n",
    "- To communicate with the ROS Master in C++, you need a `NodeHandle`. The node handle `n` will initialize the node.\n",
    "- The `package_name::service_file_name` indicates the name of the service file located in the `srv` directory of the package.\n",
    "- The `service_name` argument indicates the name of the service which is defined in the service server node.\n",
    "\n",
    "### ROS Subscribers\n",
    "\n",
    "A subscriber enables your node to read messages from a topic, allowing useful data to be streamed to the node. In C++, ROS subscribers frequently have the following format, although other parameters and arguments are possible:\n",
    "\n",
    "```cpp\n",
    "ros::Subscriber sub1 = n.subscribe(\"/topic_name\", queue_size, callback_function);\n",
    "```\n",
    "\n",
    "- The `sub1` object is a subscriber object instantiated from the `ros::Subscriber` class. This object allows you to subscribe to messages by calling the `subscribe()` function.\n",
    "- To communicate with the ROS Master in C++, you need a `NodeHandle`. The node handle `n` will initialize the node.\n",
    "- The `\"/topic_name\"` indicates the topic to which the subscriber should listen.\n",
    "- The `queue_size` determines the number of messages that can be stored in a queue. If the number of messages published exceeds the size of the queue, the oldest messages are dropped. For example, if the `queue_size` is set to 100 and the number of messages stored in it is equal to 100, we will have to start deleting old messages to make room in the queue for new messages. This means that we are unable to process messages fast enough, and we probably need to increase the `queue_size`.\n",
    "- The `callback_function` is the name of the function that will be run for each incoming message. Each time a message arrives, it is passed as an argument to `callback_function`. Typically, this function performs a useful action with the incoming data. Note that unlike service handler functions, the `callback_function` is not required to return anything.\n",
    "\n",
    "### Quiz Question\n",
    "\n",
    "Which of the following ROS nodes would likely need a Subscriber?\n",
    "\n",
    "For more information about subscribers, see the [Subscriber documentation on the ROS wiki](http://wiki.ros.org/roscpp/Overview/Subscriptions). Let's move on to the `look_away` node so you can see subscribers and clients in action!\n"
   ]
  }
 ],
 "metadata": {
  "kernelspec": {
   "display_name": "Python 3 (ipykernel)",
   "language": "python",
   "name": "python3"
  },
  "language_info": {
   "codemirror_mode": {
    "name": "ipython",
    "version": 3
   },
   "file_extension": ".py",
   "mimetype": "text/x-python",
   "name": "python",
   "nbconvert_exporter": "python",
   "pygments_lexer": "ipython3",
   "version": "3.12.7"
  }
 },
 "nbformat": 4,
 "nbformat_minor": 5
}
