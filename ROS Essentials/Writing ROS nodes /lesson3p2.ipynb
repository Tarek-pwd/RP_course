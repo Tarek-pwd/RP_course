{
 "cells": [
  {
   "cell_type": "markdown",
   "id": "04b28de2-019e-480e-8b4a-a495443d19ac",
   "metadata": {},
   "source": [
    "# ROS in the Workspace\n",
    "\n",
    "To follow along with this lesson, you will need to run ROS.\n",
    "\n",
    "1. **Open the Workspace**:\n",
    "   - Open Udacity's VM workspace (Ubuntu 20.04 LTS) or the local VM image (Ubuntu 18.04 LTS) running on your VMWare/VirtualBox to practice the current exercise.\n",
    "\n",
    "2. **Log In**:\n",
    "   - Once you log into the VM, open a Terminal window.\n",
    "\n",
    "You're now ready to follow along in your development environment with this lesson!"
   ]
  }
 ],
 "metadata": {
  "kernelspec": {
   "display_name": "Python 3 (ipykernel)",
   "language": "python",
   "name": "python3"
  },
  "language_info": {
   "codemirror_mode": {
    "name": "ipython",
    "version": 3
   },
   "file_extension": ".py",
   "mimetype": "text/x-python",
   "name": "python",
   "nbconvert_exporter": "python",
   "pygments_lexer": "ipython3",
   "version": "3.12.7"
  }
 },
 "nbformat": 4,
 "nbformat_minor": 5
}
