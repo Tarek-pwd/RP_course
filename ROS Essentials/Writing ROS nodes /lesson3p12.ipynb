{
 "cells": [
  {
   "cell_type": "markdown",
   "id": "f370dc88-2629-4c6e-ab61-db626511c863",
   "metadata": {},
   "source": [
    "## Description of Look Away\n",
    "\n",
    "To see a ROS subscriber and client in action, you'll write a node called `look_away`. The `look_away` node will subscribe to the `/rgb_camera/image_raw` topic, which has image data from the camera mounted on the end of the robotic arm. Whenever the camera is pointed towards an uninteresting image - in this case, an image with uniform color - the callback function will request a `safe_move` service to safely move the arm to something more interesting. There are a few extra pieces in the code to ensure that this procedure is executed smoothly, but we’ll focus on those later.\n",
    "\n",
    "### Updating the Launch File\n",
    "\n",
    "Just as you did with the `arm_mover` node, to get `look_away` to launch with the rest of the nodes, you will need to modify `robot_spawn.launch`, which can be found in `~/catkin_ws/src/simple_arm/launch`. You can add the following code there:\n",
    "\n",
    "```xml\n",
    "<!-- The look away node -->\n",
    "<node name=\"look_away\" type=\"look_away\" pkg=\"simple_arm\"/>\n",
    "```\n",
    "\n",
    "Remember that a half turn of a joint requires `pi/2` radians of revolution. Numerically, `pi/2` is approximately `1.57`. Since we want to be able to revolve a joint halfway around with one request, it will be helpful to set `max_joint_2_angle: 1.57` in `arm_mover`:\n",
    "\n",
    "```xml\n",
    "<!-- The arm mover node -->\n",
    "<node name=\"arm_mover\" type=\"arm_mover\" pkg=\"simple_arm\">\n",
    "  <rosparam>\n",
    "    min_joint_1_angle: 0\n",
    "    max_joint_1_angle: 1.57\n",
    "    min_joint_2_angle: 0\n",
    "    max_joint_2_angle: 1.57\n",
    "  </rosparam>\n",
    "</node>\n",
    "```\n"
   ]
  }
 ],
 "metadata": {
  "kernelspec": {
   "display_name": "Python 3 (ipykernel)",
   "language": "python",
   "name": "python3"
  },
  "language_info": {
   "codemirror_mode": {
    "name": "ipython",
    "version": 3
   },
   "file_extension": ".py",
   "mimetype": "text/x-python",
   "name": "python",
   "nbconvert_exporter": "python",
   "pygments_lexer": "ipython3",
   "version": "3.12.7"
  }
 },
 "nbformat": 4,
 "nbformat_minor": 5
}
