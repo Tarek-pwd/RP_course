{
 "cells": [
  {
   "cell_type": "markdown",
   "id": "ba401144-687c-4581-96f0-c3c56d24e673",
   "metadata": {},
   "source": [
    "## ROS Pub-Sub Template Class\n",
    "\n",
    "Inside the publisher and subscriber nodes of this lesson, global variables and objects were defined to be used anywhere in the code. We did this to simplify the code, but it is not a good practice. You should always write a pub-sub class to easily share variables and objects with any callback function in your code. Here’s a ROS pub-sub template class that you can use:\n",
    "\n",
    "### ROS Class C++ Code\n",
    "\n",
    "```cpp\n",
    "#include <ros/ros.h>\n",
    "\n",
    "class SubscribeAndPublish\n",
    "{\n",
    "public:\n",
    "  SubscribeAndPublish()\n",
    "  {\n",
    "    //Topic you want to publish\n",
    "    pub_ = n_.advertise<PUBLISHED_MESSAGE_TYPE>(\"/published_topic\", 1);\n",
    "\n",
    "    //Topic you want to subscribe\n",
    "    sub_ = n_.subscribe(\"/subscribed_topic\", 1, &SubscribeAndPublish::callback, this);\n",
    "  }\n",
    "\n",
    "  void callback(const SUBSCRIBED_MESSAGE_TYPE& input)\n",
    "  {\n",
    "    PUBLISHED_MESSAGE_TYPE output;\n",
    "    //.... do something with the input and generate the output...\n",
    "    pub_.publish(output);\n",
    "  }\n",
    "\n",
    "private:\n",
    "  ros::NodeHandle n_; \n",
    "  ros::Publisher pub_;\n",
    "  ros::Subscriber sub_;\n",
    "\n",
    "};//End of class SubscribeAndPublish\n",
    "\n",
    "int main(int argc, char **argv)\n",
    "{\n",
    "  //Initiate ROS\n",
    "  ros::init(argc, argv, \"subscribe_and_publish\");\n",
    "\n",
    "  //Create an object of class SubscribeAndPublish that will take care of everything\n",
    "  SubscribeAndPublish SAPObject;\n",
    "\n",
    "  ros::spin();\n",
    "\n",
    "  return 0;\n",
    "}\n",
    "```\n",
    "\n",
    "---\n",
    "\n",
    "### Challenge\n",
    "\n",
    "We challenge you to use this template class to implement the nodes in this lesson. You can find more details and examples in the [ROS pub-sub template class discussion](https://robotics.stackexchange.com/questions/49948/publishing-to-a-topic-via-subscriber-callback-function).\n"
   ]
  }
 ],
 "metadata": {
  "kernelspec": {
   "display_name": "Python 3 (ipykernel)",
   "language": "python",
   "name": "python3"
  },
  "language_info": {
   "codemirror_mode": {
    "name": "ipython",
    "version": 3
   },
   "file_extension": ".py",
   "mimetype": "text/x-python",
   "name": "python",
   "nbconvert_exporter": "python",
   "pygments_lexer": "ipython3",
   "version": "3.12.7"
  }
 },
 "nbformat": 4,
 "nbformat_minor": 5
}
