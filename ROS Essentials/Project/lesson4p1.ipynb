{
 "cells": [
  {
   "cell_type": "markdown",
   "id": "f4ee75fc-872d-42cc-91a8-e879e6f088cf",
   "metadata": {},
   "source": [
    "## (video)\n",
    "\n",
    "## Project Preview\n",
    "\n",
    "Here’s a preview of the final outcome of this project. Note that your world and the robot will look different than mine as you will be implementing your own world and robot.\n",
    "\n",
    "\n",
    "## (video)"
   ]
  }
 ],
 "metadata": {
  "kernelspec": {
   "display_name": "",
   "name": ""
  },
  "language_info": {
   "name": ""
  }
 },
 "nbformat": 4,
 "nbformat_minor": 5
}
