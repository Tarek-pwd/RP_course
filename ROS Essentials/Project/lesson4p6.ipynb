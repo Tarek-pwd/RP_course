{
 "cells": [
  {
   "cell_type": "markdown",
   "id": "ee08303c-4d55-432b-b488-10038f38a993",
   "metadata": {},
   "source": [
    "## Robot Enhancement\n",
    "\n",
    "Now that you’ve built a basic model of your robot, enhance it and add wheels. Each wheel is represented as a link and is connected to the base link (the chassis) with a joint.\n",
    "\n",
    "![img](lesson4p6_img1.png)\n",
    "\n",
    "---\n",
    "\n",
    "### Create Wheel Links\n",
    "\n",
    "You will first create the links for each wheel using the specifications given below and add that to your Xacro file. For each wheel, you will have a collision, inertial, and visual element, along with the following properties:\n",
    "\n",
    "- **Link Name:** \"SIDE_wheel,\" where SIDE is either left or right.\n",
    "- **Geometry:** \"cylinder\" with radius 0.1 and length 0.05.\n",
    "- **Origin for Each Element:** [0, 0, 0, 0, 1.5707, 1.5707].\n",
    "- **Mass of Each Wheel:** \"5\".\n",
    "- **Inertia Values:** ixx=\"0.1\" ixy=\"0\" ixz=\"0\" iyy=\"0.1\" iyz=\"0\" izz=\"0.1\".\n",
    "\n",
    "---\n",
    "\n",
    "### Create Joints for the Wheels\n",
    "\n",
    "Once you define the links, you need to create the corresponding joints. The following elements will create a joint between your left wheel (the child link) and the robot chassis (the parent link):\n",
    "\n",
    "```xml\n",
    "<joint type=\"continuous\" name=\"left_wheel_hinge\">\n",
    "  <origin xyz=\"0 0.15 0\" rpy=\"0 0 0\"/>\n",
    "  <child link=\"left_wheel\"/>\n",
    "  <parent link=\"chassis\"/>\n",
    "  <axis xyz=\"0 1 0\" rpy=\"0 0 0\"/>\n",
    "  <limit effort=\"10000\" velocity=\"1000\"/>\n",
    "  <dynamics damping=\"1.0\" friction=\"1.0\"/>\n",
    "</joint>\n",
    "```\n",
    "\n",
    "The joint type is set to \"continuous\" and is similar to a revolute joint but has no limits on its rotation. This means that the joint can rotate continuously. The joint will have its own axis of rotation. Also, the joint will have certain limits to enforce the maximum \"effort\" and \"velocity\" for that joint. The limits are useful constraints for a real robot and can help in simulation as well. ROS has good documentation on [safety limits](http://wiki.ros.org/urdf/XML/joint).\n",
    "\n",
    "Add the left wheel joint to your Xacro file. Then use it as a template to create the joint between the right wheel and the chassis.\n"
   ]
  },
  {
   "cell_type": "code",
   "execution_count": null,
   "id": "60f9f541-d0b3-44e0-a0a8-88a079be0a9b",
   "metadata": {},
   "outputs": [],
   "source": []
  }
 ],
 "metadata": {
  "kernelspec": {
   "display_name": "Python 3 (ipykernel)",
   "language": "python",
   "name": "python3"
  },
  "language_info": {
   "codemirror_mode": {
    "name": "ipython",
    "version": 3
   },
   "file_extension": ".py",
   "mimetype": "text/x-python",
   "name": "python",
   "nbconvert_exporter": "python",
   "pygments_lexer": "ipython3",
   "version": "3.12.7"
  }
 },
 "nbformat": 4,
 "nbformat_minor": 5
}
