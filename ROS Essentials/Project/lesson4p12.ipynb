{
 "cells": [
  {
   "cell_type": "markdown",
   "id": "6fcedb38-9a37-42d5-a40a-06ca2773ca17",
   "metadata": {},
   "source": [
    "## Creating the ball_chaser ROS Package\n",
    "\n",
    "The second major task in this project is to create the `ball_chaser` ROS package. Within this package, you'll analyze the image captured by the camera to determine the position of a white ball. Then you’ll drive the robot toward the ball. The nodes in `ball_chaser` will communicate with the `my_robot` package by subscribing to the robot camera sensor and publishing to the robot’s wheel joints.\n",
    "\n",
    "---\n",
    "\n",
    "### Package Nodes\n",
    "\n",
    "The `ball_chaser` package will have two C++ nodes:\n",
    "\n",
    "1. **`drive_bot`:**\n",
    "   - This server node will provide a `ball_chaser/command_robot` service to drive the robot around by controlling its linear x and angular z velocities.\n",
    "   - The service will publish a message containing the velocities to the wheel joints.\n",
    "\n",
    "2. **`process_image`:**\n",
    "   - This client node will subscribe to the robot’s camera images and analyze each image to determine the position of the white ball.\n",
    "   - Once the ball’s position is determined, the client node will request a service to drive the robot either left, right, or forward.\n",
    "\n",
    "---\n",
    "\n",
    "### Steps to Set Up `ball_chaser`\n",
    "\n",
    "#### 1. Create the `ball_chaser` Package\n",
    "\n",
    "1. Navigate to the `src` directory of your `catkin_ws` and create the `ball_chaser` package:\n",
    "\n",
    "   Since we already know in advance that this package will contain C++ source code and messages, let’s create the package with those dependencies:\n",
    "\n",
    "   ```bash\n",
    "   $ cd ~/catkin_ws/src/\n",
    "   $ catkin_create_pkg ball_chaser roscpp std_msgs message_generation\n",
    "   ```\n",
    "\n",
    "2. Next, create an `srv` and a `launch` folder to define the structure of your package:\n",
    "\n",
    "   ```bash\n",
    "   $ cd ~/catkin_ws/src/ball_chaser/\n",
    "   $ mkdir srv\n",
    "   $ mkdir launch\n",
    "   ```\n",
    "\n",
    "   - `srv`: This directory will store service files.\n",
    "   - `launch`: This directory will store launch files.\n",
    "   - The `src` directory, where you will store C++ programs, is created by default.\n",
    "\n",
    "---\n",
    "\n",
    "### 2. Build the Package\n",
    "\n",
    "```bash\n",
    "$ cd ~/catkin_ws/\n",
    "$ catkin_make\n",
    "```\n",
    "\n",
    "Now you should be ready to write some code!\n"
   ]
  }
 ],
 "metadata": {
  "kernelspec": {
   "display_name": "Python 3 (ipykernel)",
   "language": "python",
   "name": "python3"
  },
  "language_info": {
   "codemirror_mode": {
    "name": "ipython",
    "version": 3
   },
   "file_extension": ".py",
   "mimetype": "text/x-python",
   "name": "python",
   "nbconvert_exporter": "python",
   "pygments_lexer": "ipython3",
   "version": "3.12.7"
  }
 },
 "nbformat": 4,
 "nbformat_minor": 5
}
