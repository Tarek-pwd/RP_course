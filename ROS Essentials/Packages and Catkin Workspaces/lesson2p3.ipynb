{
 "cells": [
  {
   "cell_type": "markdown",
   "id": "87eb770a-e4c8-4a22-acd4-40004903f8d7",
   "metadata": {},
   "source": [
    "# Cloning the Simple Arm Package\n",
    "\n",
    "**video**\n",
    "\n",
    "One of the biggest benefits of using ROS is its large community of users and developers who have already created a lot of reusable code.\n",
    "\n",
    "Let’s clone an existing package and add it to our newly created workspace.\n",
    "\n",
    "---\n",
    "\n",
    "## Cloning the Package\n",
    "\n",
    "Start by navigating to the `src` directory and cloning the `simple_arm` package for this lesson from its GitHub repo:\n",
    "\n",
    "```bash\n",
    "$ cd ~/catkin_ws/src/\n",
    "$ git clone -b first_interaction https://github.com/udacity/RoboND-simple_arm/ simple_arm\n",
    "```\n",
    "\n",
    "---\n",
    "\n",
    "## Building the Simple Arm Package\n",
    "\n",
    "After the repo has finished cloning, navigate to the top-level of the ROS workspace and build the new package:\n",
    "\n",
    "```bash\n",
    "$ cd ~/catkin_ws\n",
    "$ catkin_make\n",
    "```\n",
    "\n",
    "---\n",
    "\n",
    "## Getting Errors?\n",
    "\n",
    "Sometimes you might get a missing package error while building the catkin workspace. For example:\n",
    "\n",
    "```bash\n",
    "Could not find a package configuration file provided by controller_manager\n",
    "```\n",
    "\n",
    "This error refers to a ROS package from ROS Control. You can fix it by installing the associated Linux package, which will contain and install the necessary ROS package. If unsure about the package name, a Google search can often help identify the solution.\n",
    "\n",
    "### Installing the Package\n",
    "\n",
    "For your convenience, this package is already installed in the workspace, so you shouldn’t receive the error. However, if needed, you can re-install the package with the following command:\n",
    "\n",
    "```bash\n",
    "$ sudo apt-get install ros-noetic-controller-manager\n",
    "```\n",
    "\n",
    "If you are using the VM image instead of the Udacity Workspace, replace `noetic` with `kinetic`:\n",
    "\n",
    "```bash\n",
    "$ sudo apt-get install ros-kinetic-controller-manager"
   ]
  }
 ],
 "metadata": {
  "kernelspec": {
   "display_name": "Python 3 (ipykernel)",
   "language": "python",
   "name": "python3"
  },
  "language_info": {
   "codemirror_mode": {
    "name": "ipython",
    "version": 3
   },
   "file_extension": ".py",
   "mimetype": "text/x-python",
   "name": "python",
   "nbconvert_exporter": "python",
   "pygments_lexer": "ipython3",
   "version": "3.12.7"
  }
 },
 "nbformat": 4,
 "nbformat_minor": 5
}
