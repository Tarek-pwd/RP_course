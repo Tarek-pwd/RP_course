{
 "cells": [
  {
   "cell_type": "markdown",
   "id": "b6967c8e-491c-468a-8706-93cf8d43688c",
   "metadata": {},
   "source": [
    "# Using roslaunch\n",
    "\n",
    "**video goes here**\n",
    "\n",
    "`roslaunch` allows you to:\n",
    "\n",
    "- Launch the ROS Master and multiple nodes with one simple command\n",
    "- Set default parameters on the parameter server\n",
    "- Automatically re-spawn processes that have died\n",
    "\n",
    "---\n",
    "\n",
    "## Preparing Your Workspace\n",
    "\n",
    "To use `roslaunch`, you must first make sure that your workspace has been built and sourced:\n",
    "\n",
    "1. Navigate to your workspace:\n",
    "\n",
    "   ```bash\n",
    "   $ cd ~/catkin_ws\n",
    "   $ catkin_make\n",
    "   ```\n",
    "\n",
    "2. Once the workspace has been built, source its setup script:\n",
    "\n",
    "   ```bash\n",
    "   $ source devel/setup.bash\n",
    "   ```\n",
    "\n",
    "---\n",
    "\n",
    "## Launching simple_arm\n",
    "\n",
    "With your workspace sourced, you can now launch `simple_arm`:\n",
    "\n",
    "```bash\n",
    "$ roslaunch simple_arm robot_spawn.launch\n",
    "```\n",
    "\n",
    "And there you have it! Your very own two-degrees-of-freedom arm in simulation!\n",
    "\n",
    "![img](lesson2p4_img1.jpeg)"
   ]
  }
 ],
 "metadata": {
  "kernelspec": {
   "display_name": "Python 3 (ipykernel)",
   "language": "python",
   "name": "python3"
  },
  "language_info": {
   "codemirror_mode": {
    "name": "ipython",
    "version": 3
   },
   "file_extension": ".py",
   "mimetype": "text/x-python",
   "name": "python",
   "nbconvert_exporter": "python",
   "pygments_lexer": "ipython3",
   "version": "3.12.7"
  }
 },
 "nbformat": 4,
 "nbformat_minor": 5
}
