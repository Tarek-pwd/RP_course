{
 "cells": [
  {
   "cell_type": "markdown",
   "id": "7166f9b7-8b5d-4abd-8bd1-23d489f6185b",
   "metadata": {},
   "source": [
    "# Catkin Packages and Workspaces\n",
    "\n",
    "**video**\n",
    "\n",
    "## Catkin Packages\n",
    "\n",
    "ROS software is organized and distributed into **packages**, which are directories that might contain:\n",
    "\n",
    "- Source code for ROS nodes\n",
    "- Libraries\n",
    "- Datasets\n",
    "- Build instructions (`CMakeLists.txt` file)\n",
    "- Metadata (`package.xml` file)\n",
    "\n",
    "Packages enable ROS users to organize useful functionality in a convenient and reusable format.\n",
    "\n",
    "---\n",
    "\n",
    "## Catkin Workspaces\n",
    "\n",
    "A **catkin workspace** is a top-level directory where you build, install, and modify catkin packages. The workspace contains:\n",
    "\n",
    "- All the packages for your project\n",
    "- Several other directories for the catkin system to use when building executables and other targets from your source code.\n",
    "\n",
    "---\n",
    "\n",
    "## Lesson Roadmap\n",
    "\n",
    "1. **Create a catkin workspace**\n",
    "2. **Add packages**\n",
    "3. **Manage inter-package dependencies**\n",
    "4. **Compile packages**"
   ]
  },
  {
   "cell_type": "code",
   "execution_count": null,
   "id": "e99eda28-dcc8-4245-aae8-9d802236627a",
   "metadata": {},
   "outputs": [],
   "source": []
  }
 ],
 "metadata": {
  "kernelspec": {
   "display_name": "Python 3 (ipykernel)",
   "language": "python",
   "name": "python3"
  },
  "language_info": {
   "codemirror_mode": {
    "name": "ipython",
    "version": 3
   },
   "file_extension": ".py",
   "mimetype": "text/x-python",
   "name": "python",
   "nbconvert_exporter": "python",
   "pygments_lexer": "ipython3",
   "version": "3.12.7"
  }
 },
 "nbformat": 4,
 "nbformat_minor": 5
}
