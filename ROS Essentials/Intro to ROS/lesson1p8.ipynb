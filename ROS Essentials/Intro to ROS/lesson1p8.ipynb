{
 "cells": [
  {
   "cell_type": "markdown",
   "id": "43768e21-53b4-4078-8a5a-2c43d70ddd6b",
   "metadata": {},
   "source": [
    "# More on the History of Turtles in Robotics\n",
    "\n",
    "As we mentioned in the video, William Grey Walter's influence is still felt today. He referred to his robots as 'turtles,' and, as you will see, the moniker stuck.\n",
    "\n",
    "The image below is William Walter's **Elsie** (the robot mentioned in the video) without her protective covering.\n",
    "\n",
    "![img](lesson1p8_img1.png)\n",
    "\n",
    "Long after William Walter’s work with Elmer and Elsie, **Dr. Seymour Papert**, a professor at MIT, began to use turtle robots for education. One of the characteristics of Papert's robots was their ability to draw on paper.\n",
    "\n",
    "In addition to being involved with the creation and development of MIT’s turtle robots, Dr. Papert is also known as the creator and evangelist for the educational programming language **LOGO**.\n",
    "\n",
    "Despite being a general-purpose language, LOGO is known for its use of **“turtle graphics”**, a system that allows users to draw by sending simple commands to a robotic turtle. The robotic turtle mentioned here could be either a real turtle robot or a virtual on-screen cursor within the LOGO programming environment.\n",
    "\n",
    "The image below shows an example of **Valiant Technology’s Turtle robot** drawing on a sheet of paper.\n",
    "\n",
    "![img](lesson1p8_img2.png)\n",
    "\n",
    "While turtle graphics seem simple, people have used them to create a wide variety of interesting drawings and art.\n",
    "\n",
    "The image below depicts some drawings of **three-dimensional spheres** created using turtle graphics. The website [turtleart.org](https://turtleart.org) hosts a gallery containing even more outstanding examples!\n",
    "\n",
    "![img](lesson1p8_img3.png)\n",
    "\n",
    "If you'd like to have some fun with turtle graphics, feel free to try out the **Turtle Graphics 1.01** project, which allows you to experiment with turtle graphics through MIT’s graphical programming environment **Scratch**.\n",
    "\n",
    "Below is the result of a program written using Turtle Graphics. Looking at this image, answer the quiz question about it.\n",
    "\n",
    "![img](lesson1p8_img4.png)\n",
    "\n",
    "---\n",
    "\n",
    "## Quiz Question\n",
    "\n",
    "**Look at the image above. What commands might this program have executed to get the turtle to this point?**\n",
    "\n",
    "- [ ] Turn left 90 degrees.\n",
    "- [ ] Turn right 90 degrees.\n",
    "- [ ] Move back 40 steps.\n",
    "- [ ] Move forward 40 steps.\n",
    "\n",
    "---\n",
    "\n",
    "![img](lesson1p8_img5.jpeg)\n",
    "\n",
    "This tradition of turtles in robotics is alive and well today. In fact, each recent version of ROS has been named after some sort of turtle. In addition to this turtle-centric naming convention, the Open-Source Robotics Foundation also adds a new turtle to **turtle_sim** with each release."
   ]
  }
 ],
 "metadata": {
  "kernelspec": {
   "display_name": "Python 3 (ipykernel)",
   "language": "python",
   "name": "python3"
  },
  "language_info": {
   "codemirror_mode": {
    "name": "ipython",
    "version": 3
   },
   "file_extension": ".py",
   "mimetype": "text/x-python",
   "name": "python",
   "nbconvert_exporter": "python",
   "pygments_lexer": "ipython3",
   "version": "3.12.7"
  }
 },
 "nbformat": 4,
 "nbformat_minor": 5
}
