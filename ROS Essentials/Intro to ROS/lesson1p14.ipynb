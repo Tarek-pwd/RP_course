{
 "cells": [
  {
   "cell_type": "markdown",
   "id": "e22abadb-52b7-4bd1-bb19-8327b4682ec2",
   "metadata": {},
   "source": [
    "# Get Information About a Specific Topic\n",
    "\n",
    "**video goes here**\n",
    "\n",
    "If we wish to get information about a specific topic, who is publishing to it, subscribed to it, or the type of message associated with it, we can use the command `rostopic info`. Let’s check into the `/turtle1/cmd_vel` topic:\n",
    "\n",
    "![img](lesson1p14_img1.png)\n",
    "\n",
    "As you might expect, there are two nodes registered on this topic:\n",
    "\n",
    "1. **Publisher**: The `teleop_turtle` node.\n",
    "2. **Subscriber**: The `turtlesim` node.\n",
    "\n",
    "Additionally, we see that the type of message used on this topic is `geometry_msgs/Twist`."
   ]
  }
 ],
 "metadata": {
  "kernelspec": {
   "display_name": "Python 3 (ipykernel)",
   "language": "python",
   "name": "python3"
  },
  "language_info": {
   "codemirror_mode": {
    "name": "ipython",
    "version": 3
   },
   "file_extension": ".py",
   "mimetype": "text/x-python",
   "name": "python",
   "nbconvert_exporter": "python",
   "pygments_lexer": "ipython3",
   "version": "3.12.7"
  }
 },
 "nbformat": 4,
 "nbformat_minor": 5
}
