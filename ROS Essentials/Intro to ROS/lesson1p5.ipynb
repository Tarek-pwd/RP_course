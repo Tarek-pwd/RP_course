{
 "cells": [
  {
   "cell_type": "markdown",
   "id": "ff2b13cd-aa6a-49b5-90ad-5b709e771bbc",
   "metadata": {},
   "source": [
    "(video)\n",
    "\n",
    "# Quiz Question\n",
    "\n",
    "**Which of the following statements about ROS messages are correct?**\n",
    "\n",
    "- [ ] Messages are used to pass only text-based content between nodes.\n",
    "- [ ] Your ROS distribution will typically have just one predefined message type.\n",
    "- [ ] Messages come in hundreds of different types and may contain many different types of data.\n",
    "- [ ] In addition to default message types, you can define your own custom message types."
   ]
  },
  {
   "cell_type": "code",
   "execution_count": null,
   "id": "2fcd58db-4fd7-4c43-bf9c-e1a3cf97d11b",
   "metadata": {},
   "outputs": [],
   "source": []
  },
  {
   "cell_type": "code",
   "execution_count": null,
   "id": "09c123fc-9480-4287-91d6-4208a802ae08",
   "metadata": {},
   "outputs": [],
   "source": []
  }
 ],
 "metadata": {
  "kernelspec": {
   "display_name": "Python 3 (ipykernel)",
   "language": "python",
   "name": "python3"
  },
  "language_info": {
   "codemirror_mode": {
    "name": "ipython",
    "version": 3
   },
   "file_extension": ".py",
   "mimetype": "text/x-python",
   "name": "python",
   "nbconvert_exporter": "python",
   "pygments_lexer": "ipython3",
   "version": "3.12.7"
  }
 },
 "nbformat": 4,
 "nbformat_minor": 5
}
