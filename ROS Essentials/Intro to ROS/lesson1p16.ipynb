{
 "cells": [
  {
   "cell_type": "markdown",
   "id": "424b6f11-a277-4351-bc1f-0167219acd87",
   "metadata": {},
   "source": [
    "# Turtlesim Comms: Echo Messages on a Topic\n",
    "\n",
    "**video goes here**\n",
    "\n",
    "Sometimes it may be useful to look at a topic’s published messages in real time. To do so, we can use the command `rostopic echo`. Let’s take a look at the `/turtle1/cmd_vel` topic:\n",
    "\n",
    "```bash\n",
    "$ rostopic echo /turtle1/cmd_vel\n",
    "```\n",
    "\n",
    "\n",
    "\n",
    "If we then command the turtle to move from the `turtle_teleop_key` window, we will be able to see the output message in real-time!\n",
    "\n",
    "![img](lesson1p16_img1.png)"
   ]
  },
  {
   "cell_type": "code",
   "execution_count": null,
   "id": "99486d37-e602-4417-95a0-716c166a43ea",
   "metadata": {},
   "outputs": [],
   "source": []
  }
 ],
 "metadata": {
  "kernelspec": {
   "display_name": "Python 3 (ipykernel)",
   "language": "python",
   "name": "python3"
  },
  "language_info": {
   "codemirror_mode": {
    "name": "ipython",
    "version": 3
   },
   "file_extension": ".py",
   "mimetype": "text/x-python",
   "name": "python",
   "nbconvert_exporter": "python",
   "pygments_lexer": "ipython3",
   "version": "3.12.7"
  }
 },
 "nbformat": 4,
 "nbformat_minor": 5
}
