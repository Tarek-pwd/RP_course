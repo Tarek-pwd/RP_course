{
 "cells": [
  {
   "cell_type": "markdown",
   "id": "19611d25-29d5-4258-a85b-b7f2864252bf",
   "metadata": {},
   "source": [
    "# Turtlesim Comms: Show Message Information\n",
    "\n",
    "**video goes here**\n",
    "\n",
    "Let’s get some more information about the `geometry_msgs/Twist` message on the `/turtle1/cmd_vel` topic. To do so, we will use the `rosmsg info` command.\n",
    "\n",
    "![img](lesson1p15_img1.png)\n",
    "\n",
    "We can see that a `Twist` message consists of nothing more than two `Vector3` messages:\n",
    "\n",
    "1. **Linear Velocity**:\n",
    "   - Represented by a `Vector3` message.\n",
    "2. **Angular Velocity**:\n",
    "   - Represented by another `Vector3` message.\n",
    "\n",
    "Each velocity component (`x`, `y`, `z`) is represented by a `float64`.\n",
    "\n",
    "### Note\n",
    "\n",
    "Sometimes the message definition doesn’t provide an ample amount of detail about a message type. For instance, in the example above, how can we be sure that the linear and angular vectors refer to velocities and not positions?\n",
    "\n",
    "One way to get more detail would be to look at the comments in the message’s definition file. To do so, we can issue the following command:\n",
    "\n",
    "```bash\n",
    "rosed geometry_msgs Twist.msg\n",
    "```\n",
    "\n",
    "More information about `rosed`, including how to select which editor is used by default, can be found [here](https://example.com).\n"
   ]
  }
 ],
 "metadata": {
  "kernelspec": {
   "display_name": "Python 3 (ipykernel)",
   "language": "python",
   "name": "python3"
  },
  "language_info": {
   "codemirror_mode": {
    "name": "ipython",
    "version": 3
   },
   "file_extension": ".py",
   "mimetype": "text/x-python",
   "name": "python",
   "nbconvert_exporter": "python",
   "pygments_lexer": "ipython3",
   "version": "3.12.7"
  }
 },
 "nbformat": 4,
 "nbformat_minor": 5
}
