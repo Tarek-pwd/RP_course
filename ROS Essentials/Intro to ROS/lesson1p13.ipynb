{
 "cells": [
  {
   "cell_type": "markdown",
   "id": "6309d4b8-79a9-4413-a657-791c07610140",
   "metadata": {},
   "source": [
    "# Listing All Topics\n",
    "\n",
    "**video goes here**\n",
    "\n",
    "In a similar fashion, we are able to query the ROS Master for a list of all topics. To do so, we use the command `rostopic list`.\n",
    "\n",
    "![img](lesson1p13_img1.png)\n",
    "\n",
    "### List of Topics:\n",
    "\n",
    "1. **/rosout_agg**:\n",
    "   - Aggregated feed of messages published to `/rosout`.\n",
    "\n",
    "2. **/turtle1/cmd_vel**:\n",
    "   - Topic on which velocity commands are sent/received. Publishing a velocity message to this topic will command `turtle1` to move.\n",
    "\n",
    "3. **/turtle1/color_sensor**:\n",
    "   - Each turtle in turtlesim is equipped with a color sensor, and readings from the sensor are published to this topic.\n",
    "\n",
    "4. **/turtle1/pose**:\n",
    "   - The position and orientation of `turtle1` are published to this topic.\n"
   ]
  }
 ],
 "metadata": {
  "kernelspec": {
   "display_name": "Python 3 (ipykernel)",
   "language": "python",
   "name": "python3"
  },
  "language_info": {
   "codemirror_mode": {
    "name": "ipython",
    "version": 3
   },
   "file_extension": ".py",
   "mimetype": "text/x-python",
   "name": "python",
   "nbconvert_exporter": "python",
   "pygments_lexer": "ipython3",
   "version": "3.12.7"
  }
 },
 "nbformat": 4,
 "nbformat_minor": 5
}
