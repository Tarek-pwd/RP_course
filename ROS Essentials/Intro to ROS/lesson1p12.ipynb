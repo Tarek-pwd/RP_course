{
 "cells": [
  {
   "cell_type": "markdown",
   "id": "1d001f91-e24e-4c51-a045-5c262a3a9455",
   "metadata": {},
   "source": [
    "# Turtlesim Comms: List All Active Nodes\n",
    "\n",
    "In the following sections, we will investigate Turtlesim communication commands and will cover the following steps:\n",
    "\n",
    "- Listing all active nodes\n",
    "- Listing all topics\n",
    "- Getting information about topics\n",
    "- Showing message information\n",
    "- Echoing messages in real-time\n",
    "\n",
    "Now that we’ve launched `turtlesim_node` and played around with sending commands via the `turtle_teleop_key` node, let’s dig deeper, to see what’s actually happening underneath the surface...\n",
    "\n",
    "**video goes here**\n",
    "\n",
    "## Listing All Active Nodes\n",
    "\n",
    "To get a list of all nodes that are active and have been registered with the ROS Master, we can use the command `rosnode list`. Let’s do so now:\n",
    "\n",
    "![img](lesson1p12_img1.png)\n",
    "\n",
    "We can see that there are three active nodes that have been registered with the ROS Master:\n",
    "\n",
    "1. **/rosout**:\n",
    "   - This node is launched by `roscore`.\n",
    "   - It subscribes to the standard `/rosout` topic, the topic to which all nodes send log messages.\n",
    "\n",
    "2. **/teleop_turtle**:\n",
    "   - This is our keyboard teleop node.\n",
    "   - Notice that it’s not named `turtle_teleop_key`. There’s no requirement that a node’s broadcasted name is the same as the name of its associated executable.\n",
    "\n",
    "3. **/turtlesim**:\n",
    "   - The node name associated with the `turtlesim_node`.\n"
   ]
  }
 ],
 "metadata": {
  "kernelspec": {
   "display_name": "Python 3 (ipykernel)",
   "language": "python",
   "name": "python3"
  },
  "language_info": {
   "codemirror_mode": {
    "name": "ipython",
    "version": 3
   },
   "file_extension": ".py",
   "mimetype": "text/x-python",
   "name": "python",
   "nbconvert_exporter": "python",
   "pygments_lexer": "ipython3",
   "version": "3.12.7"
  }
 },
 "nbformat": 4,
 "nbformat_minor": 5
}
