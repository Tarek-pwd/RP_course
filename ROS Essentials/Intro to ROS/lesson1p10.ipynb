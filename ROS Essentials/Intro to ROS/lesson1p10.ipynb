{
 "cells": [
  {
   "cell_type": "markdown",
   "id": "4480a00a-5b77-4fbd-b985-246186dd1a14",
   "metadata": {},
   "source": [
    "(video)\n",
    "\n",
    "# Environment Setup\n",
    "\n",
    "Open Udacity's VM workspace (Ubuntu 20.04 LTS) or the local VM image (Ubuntu 18.04 LTS) running on your VMWare/VirtualBox to practice the current exercise. If you haven't already, review the overview and restrictions outlined in the *Ubuntu VM Workspace - Overview* page.\n",
    "\n",
    "1. Once you log into the VM, open a Terminal window.\n",
    "2. Before we begin using ROS in a terminal, we must first ensure that all of the environment variables are present. To do this, source the setup script provided by ROS:\n",
    "\n",
    "   ```bash\n",
    "   source /opt/ros/kinetic/setup.bash\n",
    "   ```\n",
    "\n",
    "   You must source this script in every bash terminal you use ROS in. However, it can be convenient to automatically source this script every time a new shell is launched. These commands will do that for you:\n",
    "\n",
    "   ```bash\n",
    "   echo \"source /opt/ros/kinetic/setup.bash\" >> ~/.bashrc\n",
    "   source ~/.bashrc\n",
    "   ```\n",
    "\n",
    "### Important Note\n",
    "\n",
    "The instructions in the video used ROS Kinetic, so this previous command should work well on the VM image. However, for the VM Workspace, the instructions use **ROS Noetic**, so you will just need to adjust the path as follows:\n",
    "\n",
    "```bash\n",
    "echo \"source /opt/ros/noetic/setup.bash\" >> ~/.bashrc\n",
    "source ~/.bashrc\n",
    "```\n",
    "\n",
    "### Caveat\n",
    "\n",
    "Make sure you use the bash command `source` rather than `./`. There’s a subtle distinction between the two commands:\n",
    "\n",
    "- `source` executes the script in the current session.\n",
    "- `./` will start a new session containing a copy of the current environment. When a script executed via `./` is exited, all environment variables set by it will be lost.\n",
    "\n",
    "We don’t want this. For more information on environment variables and terminal sessions, please see [here](https://example.com).\n",
    "\n",
    "---\n",
    "\n",
    "## Quiz Questions\n",
    "\n",
    "### Question 1 of 2\n",
    "\n",
    "**Which one of the statements below is true regarding the bash `source` command?**\n",
    "\n",
    "### Question 2 of 2\n",
    "\n",
    "**Which one of the statements below is true regarding the bash `./` command?**\n",
    "\n",
    "---\n",
    "\n",
    "You are now ready to run the turtlesim!\n"
   ]
  }
 ],
 "metadata": {
  "kernelspec": {
   "display_name": "Python 3 (ipykernel)",
   "language": "python",
   "name": "python3"
  },
  "language_info": {
   "codemirror_mode": {
    "name": "ipython",
    "version": 3
   },
   "file_extension": ".py",
   "mimetype": "text/x-python",
   "name": "python",
   "nbconvert_exporter": "python",
   "pygments_lexer": "ipython3",
   "version": "3.12.7"
  }
 },
 "nbformat": 4,
 "nbformat_minor": 5
}
