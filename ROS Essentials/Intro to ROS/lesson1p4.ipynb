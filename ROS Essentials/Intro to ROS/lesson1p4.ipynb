{
 "cells": [
  {
   "cell_type": "markdown",
   "id": "7bdcec99-f84b-4c91-8ad8-be9afbc18491",
   "metadata": {},
   "source": [
    "(video)\n",
    "\n",
    "\n",
    "# ROS Quiz Questions\n",
    "\n",
    "## Question 1 of 5\n",
    "**What are the three high-level tasks performed by most robots?**\n",
    "\n",
    "- [ ] Mapping, navigation, and docking\n",
    "- [ ] Perception, decision-making, and actuation\n",
    "- [ ] Charging, sensing, and execution\n",
    "- [ ] Planning, optimization, and actuation\n",
    "\n",
    "---\n",
    "\n",
    "## Question 2 of 5\n",
    "**Each ROS node handles multiple high-level functionalities.**\n",
    "\n",
    "- [ ] True\n",
    "- [ ] False\n",
    "\n",
    "---\n",
    "\n",
    "## Question 3 of 5\n",
    "**What is the role of the ROS master?**\n",
    "\n",
    "- [ ] It manages direct communication between nodes\n",
    "- [ ] It helps nodes discover each other and maintain a registry of active nodes\n",
    "- [ ] It processes sensor data for all nodes in the system\n",
    "- [ ] It handles the actuation of motors and controllers\n",
    "\n",
    "---\n",
    "\n",
    "## Question 4 of 5\n",
    "**A node must publish to a topic to send a message.**\n",
    "\n",
    "- [ ] True\n",
    "- [ ] False\n",
    "\n",
    "---\n",
    "\n",
    "## Question 5 of 5\n",
    "**What is the main benefit of the pub-sub architecture?**\n",
    "\n",
    "- [ ] It eliminates the need for a ROS master\n",
    "- [ ] It allows nodes to communicate directly without a middleman\n",
    "- [ ] It provides a flexible way for nodes to share data using topics\n",
    "- [ ] It reduces computational load by limiting the number of active nodes\n"
   ]
  },
  {
   "cell_type": "code",
   "execution_count": null,
   "id": "59331311-ef96-4d24-a142-3e2a7d8887b8",
   "metadata": {},
   "outputs": [],
   "source": []
  }
 ],
 "metadata": {
  "kernelspec": {
   "display_name": "Python 3 (ipykernel)",
   "language": "python",
   "name": "python3"
  },
  "language_info": {
   "codemirror_mode": {
    "name": "ipython",
    "version": 3
   },
   "file_extension": ".py",
   "mimetype": "text/x-python",
   "name": "python",
   "nbconvert_exporter": "python",
   "pygments_lexer": "ipython3",
   "version": "3.12.7"
  }
 },
 "nbformat": 4,
 "nbformat_minor": 5
}
