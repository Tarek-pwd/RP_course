{
 "cells": [
  {
   "cell_type": "markdown",
   "id": "ebcc5b90-a68d-4b98-91bb-932f5af1c099",
   "metadata": {
    "jp-MarkdownHeadingCollapsed": true
   },
   "source": [
    "\n",
    "(video)\n",
    "# Quiz Question\n",
    "\n",
    "**Which of the following statements about services are correct?**\n",
    "\n",
    "- [ ] In ROS terminology, \"service\" is just another name for \"topic.\"\n",
    "- [ ] Services are similar to topics in that they facilitate the passing of messages between nodes.\n",
    "- [ ] Services use a request-response message passing scheme, rather than the pub-sub method used with topics.\n",
    "- [ ] A request message on a service might actually trigger a new sensor measurement, like a new camera image, with settings like exposure time specified in the message.\n"
   ]
  }
 ],
 "metadata": {
  "kernelspec": {
   "display_name": "Python 3 (ipykernel)",
   "language": "python",
   "name": "python3"
  },
  "language_info": {
   "codemirror_mode": {
    "name": "ipython",
    "version": 3
   },
   "file_extension": ".py",
   "mimetype": "text/x-python",
   "name": "python",
   "nbconvert_exporter": "python",
   "pygments_lexer": "ipython3",
   "version": "3.12.7"
  }
 },
 "nbformat": 4,
 "nbformat_minor": 5
}
