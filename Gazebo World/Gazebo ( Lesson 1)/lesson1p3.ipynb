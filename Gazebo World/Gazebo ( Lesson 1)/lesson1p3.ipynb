{
 "cells": [
  {
   "cell_type": "markdown",
   "id": "c2d383ec-d4da-4bf9-8656-03e644bec9a1",
   "metadata": {},
   "source": [
    "# ToDo - Instructions\n",
    "\n",
    "Follow these simple steps to boot up Gazebo in your Workspace:\n",
    "\n",
    "1. **Open the Ubuntu VM Workspace**\n",
    "   - Open Udacity's VM workspace (Ubuntu 20.04 LTS) or the local VM image (Ubuntu 18.04 LTS) running on your VMWare/VirtualBox to practice the current exercise.\n",
    "   - If you haven't already, review the overview and restrictions outlined in the *Ubuntu VM Workspace - Overview* page.\n",
    "\n",
    "2. **Log into the VM and Open a Terminal**\n",
    "   - Once you log into the VM, open a Terminal window.\n",
    "\n",
    "3. **Update and Upgrade the Workspace Image**\n",
    "   - Update and upgrade the Workspace image to get the latest features of Gazebo. Use the following command:\n",
    "\n",
    "     ```bash\n",
    "     $ sudo apt-get update && sudo apt-get upgrade -y\n",
    "     ```\n",
    "   - **Note**: Remember to update and upgrade your image after each reboot since these updates (or any package that you install) are not permanent. Ignore any error messages you encounter during the upgrade.\n",
    "\n",
    "4. **Launch Gazebo**\n",
    "   - Launch Gazebo from the terminal by typing:\n",
    "\n",
    "     ```bash\n",
    "     $ gazebo\n",
    "     ```\n",
    "\n",
    "   - **Tip**: Occasionally, Gazebo may get stuck in a loading loop. If it does not fully load after about one minute, try the following:\n",
    "     - Close Gazebo by pressing `Ctrl+C` while the Gazebo terminal is active.\n",
    "     - Run the `gazebo` command again to restart the application.\n"
   ]
  },
  {
   "cell_type": "markdown",
   "id": "7911c572-114d-404a-b981-fbb30feae0c6",
   "metadata": {},
   "source": []
  }
 ],
 "metadata": {
  "kernelspec": {
   "display_name": "Python 3 (ipykernel)",
   "language": "python",
   "name": "python3"
  },
  "language_info": {
   "codemirror_mode": {
    "name": "ipython",
    "version": 3
   },
   "file_extension": ".py",
   "mimetype": "text/x-python",
   "name": "python",
   "nbconvert_exporter": "python",
   "pygments_lexer": "ipython3",
   "version": "3.12.7"
  }
 },
 "nbformat": 4,
 "nbformat_minor": 5
}
