{
 "cells": [
  {
   "cell_type": "markdown",
   "id": "ec4de090-4a23-453d-a631-7ff8d133bf20",
   "metadata": {
    "jp-MarkdownHeadingCollapsed": true
   },
   "source": [
    "# Exploring the Building Editor\n",
    "\n",
    "(video goes here)\n",
    "\n",
    "![img](img_lesson1p8.png)\n",
    "\n",
    "Building Editor  \n",
    "Follow these steps to design a house for your robot with the **Building Editor** tool in Gazebo:\n",
    "\n",
    "- Open a terminal and launch Gazebo\n",
    "- Click edit and launch the Building Editor\n",
    "- Inside the 2D view section, create walls and edit their length, height, and thickness\n",
    "- Add features such as window, door, and/or stairs\n",
    "- Add colors and/or textures\n",
    "- Save your model to `/home/workspace/myrobot/model`\n",
    "- Exit the building editor and go back to the Gazebo main interface\n"
   ]
  },
  {
   "cell_type": "code",
   "execution_count": null,
   "id": "7cae3e6c-5303-4270-ade2-2fa26bb37f6b",
   "metadata": {},
   "outputs": [],
   "source": []
  }
 ],
 "metadata": {
  "kernelspec": {
   "display_name": "Python 3 (ipykernel)",
   "language": "python",
   "name": "python3"
  },
  "language_info": {
   "codemirror_mode": {
    "name": "ipython",
    "version": 3
   },
   "file_extension": ".py",
   "mimetype": "text/x-python",
   "name": "python",
   "nbconvert_exporter": "python",
   "pygments_lexer": "ipython3",
   "version": "3.12.7"
  }
 },
 "nbformat": 4,
 "nbformat_minor": 5
}
