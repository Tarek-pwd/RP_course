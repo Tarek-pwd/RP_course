{
 "cells": [
  {
   "cell_type": "markdown",
   "id": "b79691ca-7ad3-47b8-9b6a-87123e7e8be5",
   "metadata": {},
   "source": [
    "# Project: Build My World\n",
    "\n",
    "## Basic Requirements\n",
    "\n",
    "| **Criteria** | **Submission Requirements** |\n",
    "|--------------|-----------------------------|\n",
    "| **World and Directory Structure** | The project must include: <ul><li>A `world` directory containing the Gazebo world file.</li><li>A `model` directory containing a building and a robot model files.</li><li>A `script` directory containing the C++ plugin code.</li><li>A `CMakeLists.txt` file in the main project directory.</li></ul>The student must submit all required files specified in the criteria. |\n",
    "\n",
    "---\n",
    "\n",
    "## Building\n",
    "\n",
    "| **Criteria** | **Submission Requirements** |\n",
    "|--------------|-----------------------------|\n",
    "| **Building** | The project must include a house with walls built using Gazebo's Building Editor. The building should: <ul><li>Be different from the one shown in the sample simulation world.</li><li>Have a single floor.</li><li>Provide enough space for robots to navigate.</li><li>Include at least one feature.</li><li>Include at least one color.</li></ul>The building should be stored in the `model` directory. |\n",
    "\n",
    "---\n",
    "\n",
    "## Modeling\n",
    "\n",
    "| **Criteria** | **Submission Requirements** |\n",
    "|--------------|-----------------------------|\n",
    "| **Robot Model** | The project must include a robot built using Gazebo's Model Editor. The robot should: <ul><li>Be different from the one shown in the sample simulation world.</li><li>Have links connected through joints.</li></ul>The robot should be stored in the `model` directory. |\n",
    "\n",
    "---\n",
    "\n",
    "## Gazebo World\n",
    "\n",
    "| **Criteria** | **Submission Requirements** |\n",
    "|--------------|-----------------------------|\n",
    "| **Gazebo World** | The project must contain a Gazebo world stored in the `world` directory. The world should: <ul><li>Be different from the one shown in the sample simulation world.</li><li>Contain the building model (e.g., house, restaurant, etc.).</li><li>Contain two instances of the robot model.</li><li>Include one model imported from the Gazebo online library.</li></ul> |\n",
    "\n",
    "---\n",
    "\n",
    "## World Plugin\n",
    "\n",
    "| **Criteria** | **Submission Requirements** |\n",
    "|--------------|-----------------------------|\n",
    "| **World Plugin** | The project must include a C++ world plugin stored in the `script` directory. The project must also include a `CMakeLists.txt` file stored in the main project directory. The plugin should: <ul><li>Print the message: `Welcome to <Your Name>'s World!`</li></ul>**Note**: Do not include the `build` directory in your submission. |\n",
    "\n",
    "---\n"
   ]
  }
 ],
 "metadata": {
  "kernelspec": {
   "display_name": "Python 3 (ipykernel)",
   "language": "python",
   "name": "python3"
  },
  "language_info": {
   "codemirror_mode": {
    "name": "ipython",
    "version": 3
   },
   "file_extension": ".py",
   "mimetype": "text/x-python",
   "name": "python",
   "nbconvert_exporter": "python",
   "pygments_lexer": "ipython3",
   "version": "3.12.7"
  }
 },
 "nbformat": 4,
 "nbformat_minor": 5
}
