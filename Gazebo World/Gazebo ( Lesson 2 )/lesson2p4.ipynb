{
 "cells": [
  {
   "cell_type": "markdown",
   "id": "549abf4c-0bae-4acb-a624-9903efd81403",
   "metadata": {},
   "source": [
    "Project Cheat sheet\n",
    "\n",
    "![img](image_lesson2p3.jpeg)\n",
    "\n"
   ]
  },
  {
   "cell_type": "code",
   "execution_count": null,
   "id": "90458666-6515-4e32-a582-afb52b21084d",
   "metadata": {},
   "outputs": [],
   "source": []
  }
 ],
 "metadata": {
  "kernelspec": {
   "display_name": "Python 3 (ipykernel)",
   "language": "python",
   "name": "python3"
  },
  "language_info": {
   "codemirror_mode": {
    "name": "ipython",
    "version": 3
   },
   "file_extension": ".py",
   "mimetype": "text/x-python",
   "name": "python",
   "nbconvert_exporter": "python",
   "pygments_lexer": "ipython3",
   "version": "3.12.7"
  }
 },
 "nbformat": 4,
 "nbformat_minor": 5
}
