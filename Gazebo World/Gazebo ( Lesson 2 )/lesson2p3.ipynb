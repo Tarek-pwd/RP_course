{
 "cells": [
  {
   "cell_type": "markdown",
   "id": "079bea3f-dbf4-4e98-9cb5-b9c71cbf1066",
   "metadata": {},
   "source": [
    "# ToDo - Instructions\n",
    "\n",
    "Follow these simple steps to boot up Gazebo in your development environment:\n",
    "\n",
    "---\n",
    "\n",
    "## Steps\n",
    "\n",
    "1. **Open the VM Workspace**\n",
    "   - Open Udacity's VM workspace (Ubuntu 20.04 LTS) or the local VM image (Ubuntu 18.04 LTS) running on your VMWare/VirtualBox.\n",
    "   - If you haven’t already, review the overview and restrictions outlined in the *Ubuntu VM Workspace - Overview* page.\n",
    "\n",
    "2. **Log into the VM and Open a Terminal**\n",
    "   - Once logged into the VM, open a Terminal window.\n",
    "\n",
    "3. **Update and Upgrade the Workspace Image**\n",
    "   - Run the following command to get the latest features of Gazebo:\n",
    "\n",
    "     ```bash\n",
    "     $ sudo apt-get update && sudo apt-get upgrade -y\n",
    "     ```\n",
    "   \n",
    "   - **Note**: Remember to update and upgrade your image after each reboot. These updates (or any packages you install) are not permanent. You can ignore any errors encountered during the upgrade.\n",
    "\n",
    "4. **Launch Gazebo**\n",
    "   - Launch Gazebo from the terminal by typing:\n",
    "\n",
    "     ```bash\n",
    "     $ gazebo\n",
    "     ```\n",
    "\n",
    "   - **Tip**: Occasionally, Gazebo may get stuck in a loading loop. If it does not fully load after about one minute:\n",
    "     - Close Gazebo by pressing `Ctrl+C` while the Gazebo terminal is active.\n",
    "     - Restart Gazebo by running the command again.\n",
    "\n",
    "---\n",
    "\n",
    "By following these steps, you will be able to set up and run Gazebo in your development environment.\n"
   ]
  }
 ],
 "metadata": {
  "kernelspec": {
   "display_name": "Python 3 (ipykernel)",
   "language": "python",
   "name": "python3"
  },
  "language_info": {
   "codemirror_mode": {
    "name": "ipython",
    "version": 3
   },
   "file_extension": ".py",
   "mimetype": "text/x-python",
   "name": "python",
   "nbconvert_exporter": "python",
   "pygments_lexer": "ipython3",
   "version": "3.12.7"
  }
 },
 "nbformat": 4,
 "nbformat_minor": 5
}
