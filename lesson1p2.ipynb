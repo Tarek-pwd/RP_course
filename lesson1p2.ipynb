{
 "cells": [
  {
   "cell_type": "markdown",
   "id": "854037fe-23d0-47f9-82bc-8b0a05bd2d3d",
   "metadata": {
    "editable": true,
    "slideshow": {
     "slide_type": ""
    },
    "tags": []
   },
   "source": []
  },
  {
   "cell_type": "markdown",
   "id": "752f8e2a-ccae-48d4-9524-605c2d31bfee",
   "metadata": {
    "editable": true,
    "slideshow": {
     "slide_type": ""
    },
    "tags": []
   },
   "source": [
    "# VM Workspace - Access and Best Practices\n",
    "\n",
    "For the upcoming exercises/projects in this course, we will provide you with a VM workspace. Read the sections below to understand how to access the VM workspace and consider the related aspects, such as restrictions and best practices.\n",
    "\n",
    "---\n",
    "\n",
    "## VM Workspace - Access\n",
    "\n",
    "Follow the instructions below to access your VM workspace:\n",
    "\n",
    "1. Open the left menu on the current page and scroll to the bottom of the menu.\n",
    "2. Click the menu item **Launch Virtual Machine** at the bottom.\n",
    "3. A pop-up will appear with a button **Open Cloud Console**. Click on the **Open Cloud Console** button.\n",
    "\n",
    "   ![Open Cloud Console Button](img_1.jpeg)\n",
    "\n",
    "4. When you click on the **Open Cloud Console** button, the VM workspace will open in a new browser tab. Ensure that you have not enabled the pop-up blocker for [https://learn.udacity.com](https://learn.udacity.com).\n",
    "5. The VM will start within 3-4 minutes. This is the average boot-up time for the machine.\n",
    "6. Review the information at the top bar when the VM loads. The top bar will display the **VM status**, **duration used out of the total lifetime duration**, **current session timer**, and **start/extend/end/reset buttons**. The screenshot below highlights the icons in the top bar of a VM workspace.\n",
    "\n",
    "   ![VM Workspace Top Bar](img_2.jpeg)\n",
    "\n",
    "7. To log into the VM, use the following credentials:\n",
    "   - **Username**: `ubuntu`\n",
    "   - **Password**: `ubuntu`\n",
    "   - **Additional Credentials**:\n",
    "     - **Username**: `labsuser`\n",
    "     - **Password**: `vocareum`\n",
    "\n",
    "---\n",
    "\n",
    "## VM Workspace - Overview\n",
    "\n",
    "The VM workspace is an Ubuntu 20.04 machine with NVIDIA Tesla T4 GPU support. It includes all the necessary tools required to run the exercises and the project in this course. The major tools and configurations available are:\n",
    "\n",
    "- **CARLA simulator 0.9.9.4**\n",
    "- **NICE DCV Server**: Includes Nvidia drivers and CUDA libraries for the Tesla T4 GPU.\n",
    "- **C++**\n",
    "- **Git**\n",
    "- **OpenCV**\n",
    "- **CMake** and **Make**\n",
    "- **VSCode**\n",
    "- **Eigen Library for C++**\n",
    "- **Point Cloud Library**\n",
    "- **Python3 and Pip**\n",
    "- **ROS**\n",
    "\n",
    "You can also install additional tools if needed for classroom exercises or the project.\n",
    "\n",
    "---\n",
    "\n",
    "## VM Workspace - Restrictions and Best Practices\n",
    "\n",
    "### Restrictions\n",
    "1. The VM workspace is a **sandbox environment**. Each session is initiated for a limited duration.\n",
    "2. After the session expires, the VM workspace will terminate.\n",
    "3. **Work and custom installations are not preserved** for the next session. A fresh VM workspace is provided for each session.\n",
    "\n",
    "### Best Practices\n",
    "- **Save your work**:\n",
    "  - Save edits to starter/solution code and the `README` file in a GitHub repo so you can pull them again in your next session.\n",
    "- **Be mindful of session duration**:\n",
    "  - Each session has a fixed duration (e.g., 4 hours), and the total lifetime duration is also limited (e.g., 40 hours).\n",
    "  - Monitor the **session timer** and **total lifetime duration** in the VM workspace top bar.\n",
    "- **Extend sessions wisely**:\n",
    "  - You can extend a session by an hour (up to 4 additional hours). For example:\n",
    "    - Initial session: 4 hours\n",
    "    - Max extended session: 8 hours total\n",
    "- **Avoid data loss**:\n",
    "  - Save your work intermittently to prevent loss in case the session ends abruptly.\n",
    "- **Terminate unused sessions**:\n",
    "  - Click the **End lab** button at the top to terminate the VM workspace when not in use. This will conserve your remaining time.\n",
    "\n",
    "**Important**: Misusing the VM workspace can lead to revoked access or account deactivation. Follow all exercise/project instructions, as Udacity monitors VM usage for ethical purposes.\n",
    "\n",
    "---\n",
    "\n",
    "## VM Workspace - Getting Help\n",
    "\n",
    "If the VM workspace does not load, file a support ticket with Udacity. You can find the link for filing a support ticket at the bottom-right of your classroom page.\n"
   ]
  }
 ],
 "metadata": {
  "kernelspec": {
   "display_name": "Python 3 (ipykernel)",
   "language": "python",
   "name": "python3"
  },
  "language_info": {
   "codemirror_mode": {
    "name": "ipython",
    "version": 3
   },
   "file_extension": ".py",
   "mimetype": "text/x-python",
   "name": "python",
   "nbconvert_exporter": "python",
   "pygments_lexer": "ipython3",
   "version": "3.12.7"
  }
 },
 "nbformat": 4,
 "nbformat_minor": 5
}
